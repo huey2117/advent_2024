{
 "cells": [
  {
   "cell_type": "code",
   "execution_count": 145,
   "id": "4134bc59-7a2d-44a6-a60c-ed32e3600e56",
   "metadata": {},
   "outputs": [],
   "source": [
    "from collections import defaultdict, deque\n",
    "from functools import cmp_to_key\n",
    "from math import floor\n",
    "\n",
    "\n",
    "def read_rules():\n",
    "    rules_dict = defaultdict(list)\n",
    "    with open('day05_rules.txt', 'r') as file:\n",
    "        for line in file:\n",
    "            line = line.strip('\\n').split('|')\n",
    "            rules_dict[line[0]].append(line[1]) \n",
    "\n",
    "    return rules_dict\n",
    "\n",
    "def check_line_order(line, rules_dict):\n",
    "    for index, item in enumerate(line):\n",
    "        after_values = rules_dict[item]\n",
    "\n",
    "        if not all(rest in after_values for rest in line[index+1:]):\n",
    "            return False\n",
    "    return True\n",
    "\n",
    "def build_sort_dicts():\n",
    "    smaller = defaultdict(set)\n",
    "    larger = defaultdict(set)\n",
    "    \n",
    "    with open('day05_rules.txt', 'r') as file:\n",
    "        for line in file:\n",
    "            line = line.strip('\\n').split('|')\n",
    "            before, after = int(line[0]), int(line[1])\n",
    "            smaller[before].add(after)\n",
    "            larger[after].add(before)\n",
    "\n",
    "    return smaller, larger\n",
    "\n",
    "def cmp(before, after, smaller, larger):\n",
    "    if before in smaller and after in smaller[before]:\n",
    "        return -1\n",
    "    if after in smaller and before in smaller[after]:\n",
    "        return 1\n",
    "    if before in larger and after in larger[before]:\n",
    "        return 1\n",
    "    if after in larger and before in larger[after]:\n",
    "        return -1\n",
    "    return 0\n",
    "            \n",
    "def part1():\n",
    "    rules_dict = read_rules()\n",
    "    middle_sum = 0\n",
    "\n",
    "    with open('day05_updates.txt', 'r') as file:\n",
    "        for line in file:\n",
    "            line = line.strip('\\n').split(',')\n",
    "            if (check_line_order(line, rules_dict)):\n",
    "                middle_sum += int(line[int((len(line) - 1)/2)])\n",
    "    \n",
    "    print(middle_sum)\n",
    "\n",
    "def part2():\n",
    "    smaller, larger = build_sort_dicts()\n",
    "    middle_sum = 0\n",
    "\n",
    "    with open('day05_updates.txt', 'r') as file:\n",
    "        for line in file:\n",
    "            line = [int(numb) for numb in line.strip('\\n').split(',')]\n",
    "            sorted_list = sorted(line, key=cmp_to_key(\n",
    "                lambda before, after: cmp(before, after, smaller, larger)))\n",
    "            if line != sorted_list:\n",
    "                middle_sum += sorted_list[floor(len(sorted_list)/2)]\n",
    "    \n",
    "    print(middle_sum)\n",
    "\n",
    "            "
   ]
  },
  {
   "cell_type": "code",
   "execution_count": 146,
   "id": "cc588f38-f6d5-4476-86fc-949d2fdfd133",
   "metadata": {},
   "outputs": [
    {
     "name": "stdout",
     "output_type": "stream",
     "text": [
      "5391\n",
      "6142\n"
     ]
    }
   ],
   "source": [
    "part1()\n",
    "part2()"
   ]
  },
  {
   "cell_type": "code",
   "execution_count": null,
   "id": "d4e7b7ba-cb02-4782-8718-6db411211b70",
   "metadata": {},
   "outputs": [],
   "source": []
  }
 ],
 "metadata": {
  "kernelspec": {
   "display_name": "Python 3 (ipykernel)",
   "language": "python",
   "name": "python3"
  },
  "language_info": {
   "codemirror_mode": {
    "name": "ipython",
    "version": 3
   },
   "file_extension": ".py",
   "mimetype": "text/x-python",
   "name": "python",
   "nbconvert_exporter": "python",
   "pygments_lexer": "ipython3",
   "version": "3.13.0"
  }
 },
 "nbformat": 4,
 "nbformat_minor": 5
}
