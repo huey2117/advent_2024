{
 "cells": [
  {
   "cell_type": "code",
   "execution_count": 9,
   "id": "f648c3e8-4426-43b6-b5f2-eb0e79dab078",
   "metadata": {},
   "outputs": [],
   "source": [
    "from collections import Counter"
   ]
  },
  {
   "cell_type": "code",
   "execution_count": 10,
   "id": "a3a71ca2-19f4-4b97-aa7b-4348d641849d",
   "metadata": {},
   "outputs": [
    {
     "name": "stdout",
     "output_type": "stream",
     "text": [
      "936063\n",
      "23150395\n"
     ]
    }
   ],
   "source": [
    "def read_file_into_lists(file_path):\n",
    "    first_list = []\n",
    "    second_list = []\n",
    "    \n",
    "    with open(file_path, 'r') as file:\n",
    "        for line in file:\n",
    "            parts = line.split()\n",
    "            if len(parts) >= 2:\n",
    "                first_list.append(int(parts[0]))\n",
    "                second_list.append(int(parts[1]))\n",
    "    \n",
    "    return first_list, second_list\n",
    "\n",
    "file = \"advent/day01_input.csv\"\n",
    "\n",
    "first_list, second_list = read_file_into_lists(file)\n",
    "\n",
    "first_sorted = sorted(first_list)\n",
    "second_sorted = sorted(second_list)\n",
    "\n",
    "total_distance = sum(abs(l - r) for l, r in zip(first_sorted, second_sorted))\n",
    "print(total_distance)\n",
    "\n",
    "second_list_counts = Counter(second_list)\n",
    "\n",
    "total_sim_score = sum(second_list_counts[i] * i for i in first_list)\n",
    "print(total_sim_score)"
   ]
  },
  {
   "cell_type": "code",
   "execution_count": null,
   "id": "1e21b52b-a646-4c11-9dc3-25b70f8f20f6",
   "metadata": {},
   "outputs": [],
   "source": []
  }
 ],
 "metadata": {
  "kernelspec": {
   "display_name": "Python 3 (ipykernel)",
   "language": "python",
   "name": "python3"
  },
  "language_info": {
   "codemirror_mode": {
    "name": "ipython",
    "version": 3
   },
   "file_extension": ".py",
   "mimetype": "text/x-python",
   "name": "python",
   "nbconvert_exporter": "python",
   "pygments_lexer": "ipython3",
   "version": "3.13.0"
  }
 },
 "nbformat": 4,
 "nbformat_minor": 5
}
