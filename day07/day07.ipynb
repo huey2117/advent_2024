{
 "cells": [
  {
   "cell_type": "code",
   "execution_count": 28,
   "id": "e84f5cd3-ddb9-42a2-a43c-8b9d4b1fc257",
   "metadata": {},
   "outputs": [],
   "source": [
    "def can_math(line):\n",
    "    total, numbers = line\n",
    "    \n",
    "    def backtrack(current_value, index):\n",
    "        if index == len(numbers):\n",
    "            return current_value == total\n",
    "\n",
    "        next_number = numbers[index]\n",
    "        return (\n",
    "            backtrack(current_value + next_number, index + 1) or\n",
    "            backtrack(current_value * next_number, index + 1)\n",
    "        )\n",
    "    \n",
    "    return backtrack(numbers[0], 1)\n",
    "\n",
    "def can_math_p2(line):\n",
    "    total, numbers = line\n",
    "\n",
    "    def backtrack(current_value, index):\n",
    "        if index == len(numbers):\n",
    "            return current_value == total\n",
    "\n",
    "        next_number = numbers[index]\n",
    "        return (\n",
    "            backtrack(current_value + next_number, index + 1) or\n",
    "            backtrack(current_value * next_number, index + 1) or\n",
    "            backtrack(int(str(current_value) + str(next_number)), index + 1)\n",
    "        )\n",
    "        \n",
    "    return backtrack(numbers[0], 1)\n",
    "\n",
    "def part1():\n",
    "    total = 0\n",
    "    with open('day07_input.txt', 'r') as file:\n",
    "        for line in file:\n",
    "            line = line.strip().split(':')\n",
    "            line = [int(line[0]), [int(num) for num in line[1].strip().split(' ')]]\n",
    "\n",
    "            total += line[0] if can_math(line) else 0\n",
    "\n",
    "    print(total)\n",
    "\n",
    "def part2():\n",
    "    total = 0\n",
    "    with open('day07_input.txt', 'r') as file:\n",
    "        for line in file:\n",
    "            line = line.strip().split(':')\n",
    "            line = [int(line[0]), [int(num) for num in line[1].strip().split(' ')]]\n",
    "\n",
    "            total += line[0] if can_math_p2(line) else 0\n",
    "\n",
    "    print(total)"
   ]
  },
  {
   "cell_type": "code",
   "execution_count": 29,
   "id": "ed11a5c5-dc87-42d4-af2a-ab8b6419883a",
   "metadata": {},
   "outputs": [
    {
     "name": "stdout",
     "output_type": "stream",
     "text": [
      "945512582195\n",
      "271691107779347\n"
     ]
    }
   ],
   "source": [
    "part1()\n",
    "part2()"
   ]
  },
  {
   "cell_type": "code",
   "execution_count": null,
   "id": "4725f09f-3ade-4334-9a50-b25cee4ec6ca",
   "metadata": {},
   "outputs": [],
   "source": []
  }
 ],
 "metadata": {
  "kernelspec": {
   "display_name": "Python 3 (ipykernel)",
   "language": "python",
   "name": "python3"
  },
  "language_info": {
   "codemirror_mode": {
    "name": "ipython",
    "version": 3
   },
   "file_extension": ".py",
   "mimetype": "text/x-python",
   "name": "python",
   "nbconvert_exporter": "python",
   "pygments_lexer": "ipython3",
   "version": "3.13.0"
  }
 },
 "nbformat": 4,
 "nbformat_minor": 5
}
