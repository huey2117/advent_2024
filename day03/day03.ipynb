{
 "cells": [
  {
   "cell_type": "code",
   "execution_count": 3,
   "id": "e2d0dd63-622b-471f-9214-f05f6315143a",
   "metadata": {},
   "outputs": [],
   "source": [
    "import re"
   ]
  },
  {
   "cell_type": "code",
   "execution_count": 49,
   "id": "ff5f89f3-b77f-481f-91fc-a3edebc0347c",
   "metadata": {},
   "outputs": [],
   "source": [
    "def parse_line(line):\n",
    "    regex = r\"mul\\((\\d{1,3}),(\\d{1,3})\\)\"\n",
    "    pattern = re.compile(regex)\n",
    "    return pattern.findall(line)\n",
    "\n",
    "def filter_sections(line):\n",
    "    regex = r\"(?:^|do\\(\\))(.*?)(?=(?:don't\\(\\)|$))\"\n",
    "    matches = re.findall(regex, line, re.DOTALL)\n",
    "\n",
    "    return ''.join(matches).strip()\n",
    "\n",
    "def part1():\n",
    "    with open(\"day03_input.csv\",\"r\") as file:\n",
    "        total = 0\n",
    "        for line in file:\n",
    "            matches = parse_line(line)\n",
    "            total += sum(int(x)*int(y) for x,y in matches)\n",
    "        print(total)\n",
    "\n",
    "def part2():\n",
    "    with open(\"day03_input.csv\",\"r\") as file:\n",
    "        total = 0\n",
    "        should_mul = True\n",
    "        total = 0\n",
    "\n",
    "        contents = file.read().strip('\\n')\n",
    "        instructions = filter_sections(contents)\n",
    "        matches = parse_line(instructions)\n",
    "        total += sum(int(x) * int(y) for x,y in matches)\n",
    "\n",
    "        print(total)"
   ]
  },
  {
   "cell_type": "code",
   "execution_count": 48,
   "id": "2459935f-8fee-4232-8d9d-154660d11f19",
   "metadata": {
    "scrolled": true
   },
   "outputs": [
    {
     "name": "stdout",
     "output_type": "stream",
     "text": [
      "188741603\n",
      "67269798\n"
     ]
    }
   ],
   "source": [
    "part1()\n",
    "part2()"
   ]
  }
 ],
 "metadata": {
  "kernelspec": {
   "display_name": "Python 3 (ipykernel)",
   "language": "python",
   "name": "python3"
  },
  "language_info": {
   "codemirror_mode": {
    "name": "ipython",
    "version": 3
   },
   "file_extension": ".py",
   "mimetype": "text/x-python",
   "name": "python",
   "nbconvert_exporter": "python",
   "pygments_lexer": "ipython3",
   "version": "3.13.0"
  }
 },
 "nbformat": 4,
 "nbformat_minor": 5
}
