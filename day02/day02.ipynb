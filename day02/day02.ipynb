{
 "cells": [
  {
   "cell_type": "code",
   "execution_count": 26,
   "id": "90cf4fbe-e5e3-4697-be13-30891482b890",
   "metadata": {},
   "outputs": [
    {
     "name": "stdout",
     "output_type": "stream",
     "text": [
      "528\n"
     ]
    }
   ],
   "source": [
    "def check_level_diff(first, second):\n",
    "    return True if 1 <= abs(first - second) <= 3 else False \n",
    "\n",
    "def check_line(line):\n",
    "    is_ascending = True\n",
    "    is_descending = True\n",
    "    \n",
    "    for level, next_level in zip(line, line[1:]):\n",
    "        level = int(level)\n",
    "        next_level = int(next_level)\n",
    "\n",
    "        diff_result = check_level_diff(level, next_level)\n",
    "\n",
    "        if not diff_result:\n",
    "            return False\n",
    "\n",
    "        if level >= next_level:\n",
    "            is_ascending = False\n",
    "        elif level >= next_level:\n",
    "            is_second_error = True\n",
    "            \n",
    "        if level <= next_level:\n",
    "            is_descending = False\n",
    "\n",
    "    return is_ascending or is_descending\n",
    "\n",
    "def remove_level(line):\n",
    "    for i in range(len(line)):\n",
    "        new_line = line[:i] + line[i+1:]\n",
    "        if check_line(new_line):\n",
    "            return True\n",
    "\n",
    "    return False\n",
    "\n",
    "def read_file(filepath):\n",
    "    safe = 0\n",
    "    unsafe = 0\n",
    "    \n",
    "    with open(filepath, 'r') as file:\n",
    "        for line in file:\n",
    "            line = line.strip('\\n').split(' ')\n",
    "            if check_line(line):\n",
    "                safe += 1\n",
    "            else:\n",
    "                if remove_level(line):\n",
    "                    safe +=1\n",
    "                else:\n",
    "                    unsafe += 1\n",
    "\n",
    "    return safe, unsafe\n",
    "\n",
    "safe_count, unsafe_count = read_file(\"day02_input.csv\")\n",
    "\n",
    "print(safe_count)\n"
   ]
  },
  {
   "cell_type": "code",
   "execution_count": null,
   "id": "78ff1914-640f-49ca-92e7-05160ed08e95",
   "metadata": {},
   "outputs": [],
   "source": []
  }
 ],
 "metadata": {
  "kernelspec": {
   "display_name": "Python 3 (ipykernel)",
   "language": "python",
   "name": "python3"
  },
  "language_info": {
   "codemirror_mode": {
    "name": "ipython",
    "version": 3
   },
   "file_extension": ".py",
   "mimetype": "text/x-python",
   "name": "python",
   "nbconvert_exporter": "python",
   "pygments_lexer": "ipython3",
   "version": "3.13.0"
  }
 },
 "nbformat": 4,
 "nbformat_minor": 5
}
