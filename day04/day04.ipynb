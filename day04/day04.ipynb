{
 "cells": [
  {
   "cell_type": "code",
   "execution_count": 35,
   "id": "64a8a0ee-e62b-47c6-896e-98365705de67",
   "metadata": {},
   "outputs": [],
   "source": [
    "def search_grid(grid, target):\n",
    "    rows, cols = len(grid), len(grid[0])\n",
    "    count = 0\n",
    "\n",
    "    def check_direction(row, col, dr, dc):\n",
    "        for i in range(len(target)):\n",
    "            r, c = row + i * dr, col + i * dc\n",
    "            if r < 0 or r >= rows or c < 0 or c >= cols or grid[r][c] != target[i]:\n",
    "                return False\n",
    "\n",
    "        return True\n",
    "\n",
    "    # Iterate through all cells in the grid\n",
    "    for row in range(rows):\n",
    "        for col in range(cols):\n",
    "            # Left\n",
    "            if check_direction(row, col, 0, 1):\n",
    "                count += 1\n",
    "            # Right\n",
    "            if check_direction(row, col, 0, -1):\n",
    "                count += 1\n",
    "            # Down\n",
    "            if check_direction(row, col, 1, 0):\n",
    "                count += 1\n",
    "            # Up\n",
    "            if check_direction(row, col, -1, 0):\n",
    "                count += 1\n",
    "            # Diag NW -> SE\n",
    "            if check_direction(row, col, 1, 1): \n",
    "                count += 1\n",
    "            # Diag SE -> NW\n",
    "            if check_direction(row, col, -1, -1):\n",
    "                count += 1\n",
    "            # Diag NE -> SW\n",
    "            if check_direction(row, col, 1, -1):\n",
    "                count += 1\n",
    "            # Diag SW -> NE\n",
    "            if check_direction(row, col, -1, 1):\n",
    "                count += 1\n",
    "\n",
    "    return count\n",
    "\n",
    "def read_grid_from_file(filename):\n",
    "    with open(filename, 'r') as file:\n",
    "        grid = [list(line.strip()) for line in file]\n",
    "    return grid"
   ]
  },
  {
   "cell_type": "code",
   "execution_count": 37,
   "id": "dfcc1b0a-c3b7-4e52-b42c-af7c7af35f72",
   "metadata": {},
   "outputs": [
    {
     "name": "stdout",
     "output_type": "stream",
     "text": [
      "2662\n"
     ]
    }
   ],
   "source": [
    "target = \"XMAS\"\n",
    "grid = read_grid_from_file(\"day04_input.csv\")\n",
    "\n",
    "count = search_grid(grid, target)\n",
    "print(count)"
   ]
  }
 ],
 "metadata": {
  "kernelspec": {
   "display_name": "Python 3 (ipykernel)",
   "language": "python",
   "name": "python3"
  },
  "language_info": {
   "codemirror_mode": {
    "name": "ipython",
    "version": 3
   },
   "file_extension": ".py",
   "mimetype": "text/x-python",
   "name": "python",
   "nbconvert_exporter": "python",
   "pygments_lexer": "ipython3",
   "version": "3.13.0"
  }
 },
 "nbformat": 4,
 "nbformat_minor": 5
}
